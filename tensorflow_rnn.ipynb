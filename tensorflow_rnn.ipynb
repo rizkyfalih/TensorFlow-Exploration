{
  "nbformat": 4,
  "nbformat_minor": 0,
  "metadata": {
    "colab": {
      "name": "tensorflow_rnn.ipynb",
      "version": "0.3.2",
      "provenance": [],
      "collapsed_sections": [],
      "toc_visible": true
    },
    "kernelspec": {
      "name": "python3",
      "display_name": "Python 3"
    },
    "accelerator": "GPU"
  },
  "cells": [
    {
      "metadata": {
        "id": "BA1bM3mwR-Yt",
        "colab_type": "text"
      },
      "cell_type": "markdown",
      "source": [
        "# Basic Manual RNN"
      ]
    },
    {
      "metadata": {
        "id": "7hBjC3lgOUOZ",
        "colab_type": "code",
        "colab": {}
      },
      "cell_type": "code",
      "source": [
        "import tensorflow as tf\n",
        "import numpy as np\n",
        "import matplotlib.pyplot as plt\n",
        "%matplotlib inline"
      ],
      "execution_count": 0,
      "outputs": []
    },
    {
      "metadata": {
        "id": "d06AAsxsnLLy",
        "colab_type": "text"
      },
      "cell_type": "markdown",
      "source": [
        "### Constant"
      ]
    },
    {
      "metadata": {
        "id": "s9aF2hZHSqUD",
        "colab_type": "code",
        "colab": {}
      },
      "cell_type": "code",
      "source": [
        "# Number of inputs for each example\n",
        "num_inputs = 2\n",
        "\n",
        "# Number of neurons in first layer\n",
        "num_neurons = 3"
      ],
      "execution_count": 0,
      "outputs": []
    },
    {
      "metadata": {
        "id": "d7OAtl7fnWIm",
        "colab_type": "text"
      },
      "cell_type": "markdown",
      "source": [
        "### Placeholders"
      ]
    },
    {
      "metadata": {
        "id": "gJXQpwDbSweW",
        "colab_type": "code",
        "colab": {}
      },
      "cell_type": "code",
      "source": [
        "# We now need two Xs! One for each timestamp (t=0 and t=1)\n",
        "x0 = tf.placeholder(tf.float32,[None,num_inputs])\n",
        "x1 = tf.placeholder(tf.float32,[None,num_inputs])"
      ],
      "execution_count": 0,
      "outputs": []
    },
    {
      "metadata": {
        "id": "on3HN63LnnbI",
        "colab_type": "text"
      },
      "cell_type": "markdown",
      "source": [
        "### Variables"
      ]
    },
    {
      "metadata": {
        "id": "sdYyxZgeTCKC",
        "colab_type": "code",
        "colab": {}
      },
      "cell_type": "code",
      "source": [
        "# We'll also need a Weights variable for each x\n",
        "# Notice the shape dimensions on both!\n",
        "Wx = tf.Variable(tf.random_normal(shape=[num_inputs,num_neurons]))"
      ],
      "execution_count": 0,
      "outputs": []
    },
    {
      "metadata": {
        "id": "ID7lzJXsTKB6",
        "colab_type": "code",
        "colab": {}
      },
      "cell_type": "code",
      "source": [
        "Wy = tf.Variable(tf.random_normal(shape=[num_neurons,num_neurons]))"
      ],
      "execution_count": 0,
      "outputs": []
    },
    {
      "metadata": {
        "id": "zq9LkF6qTUW0",
        "colab_type": "code",
        "colab": {}
      },
      "cell_type": "code",
      "source": [
        "b = tf.Variable(tf.zeros([1, num_neurons]))"
      ],
      "execution_count": 0,
      "outputs": []
    },
    {
      "metadata": {
        "id": "yO3muEeFnyu0",
        "colab_type": "text"
      },
      "cell_type": "markdown",
      "source": [
        "### Graph"
      ]
    },
    {
      "metadata": {
        "id": "AE9uEEepTZtI",
        "colab_type": "code",
        "colab": {}
      },
      "cell_type": "code",
      "source": [
        "# First Activation\n",
        "y0 = tf.tanh(tf.matmul(x0,Wx) + b)"
      ],
      "execution_count": 0,
      "outputs": []
    },
    {
      "metadata": {
        "id": "6ZKdz8-DTi6y",
        "colab_type": "code",
        "colab": {}
      },
      "cell_type": "code",
      "source": [
        "y1 = tf.tanh(tf.matmul(y0,Wy) + tf.matmul(x1,Wx) + b)"
      ],
      "execution_count": 0,
      "outputs": []
    },
    {
      "metadata": {
        "id": "5I6tuODVn4dL",
        "colab_type": "text"
      },
      "cell_type": "markdown",
      "source": [
        "#### Intialize Variabels"
      ]
    },
    {
      "metadata": {
        "id": "kGbzh3vQT9E6",
        "colab_type": "code",
        "colab": {}
      },
      "cell_type": "code",
      "source": [
        "init = tf.global_variables_initializer()"
      ],
      "execution_count": 0,
      "outputs": []
    },
    {
      "metadata": {
        "id": "eZs2EWgun-ob",
        "colab_type": "text"
      },
      "cell_type": "markdown",
      "source": [
        "### Create Data"
      ]
    },
    {
      "metadata": {
        "id": "Ud260hqSUJiZ",
        "colab_type": "code",
        "colab": {}
      },
      "cell_type": "code",
      "source": [
        "# BATCH 0:       example1 , example2, example 3\n",
        "x0_batch = np.array([ [0,1],[2,3],[4,5] ]) # DATA AT TIMESTAMP = 0\n",
        "\n",
        "# BATCH 0:       example1 , example2, example 3\n",
        "x1_batch = np.array([ [100,101],[102,103],[104,105] ]) # DATA AT TIMESTAMP = 0"
      ],
      "execution_count": 0,
      "outputs": []
    },
    {
      "metadata": {
        "id": "gK4NDOm9ojRf",
        "colab_type": "text"
      },
      "cell_type": "markdown",
      "source": [
        "### Run Session"
      ]
    },
    {
      "metadata": {
        "id": "7lKwA6H2Uekr",
        "colab_type": "code",
        "colab": {}
      },
      "cell_type": "code",
      "source": [
        "with tf.Session() as sess:\n",
        "  sess.run(init)\n",
        "  \n",
        "  y0_output_vals, y1_output_vals = sess.run([y0,y1],feed_dict={x0:x0_batch,x1:x1_batch})"
      ],
      "execution_count": 0,
      "outputs": []
    },
    {
      "metadata": {
        "id": "5ZRlPvk-U1kQ",
        "colab_type": "code",
        "colab": {
          "base_uri": "https://localhost:8080/",
          "height": 68
        },
        "outputId": "92796e91-510f-4277-8251-3762968ce6cc"
      },
      "cell_type": "code",
      "source": [
        "# The output of values at t=0\n",
        "y0_output_vals"
      ],
      "execution_count": 12,
      "outputs": [
        {
          "output_type": "execute_result",
          "data": {
            "text/plain": [
              "array([[-0.9013045 ,  0.8681815 , -0.88914275],\n",
              "       [-0.9777838 ,  0.9997542 , -0.9997669 ],\n",
              "       [-0.9951503 ,  0.9999996 , -0.9999995 ]], dtype=float32)"
            ]
          },
          "metadata": {
            "tags": []
          },
          "execution_count": 12
        }
      ]
    },
    {
      "metadata": {
        "id": "aR64Ly9WXMnh",
        "colab_type": "code",
        "colab": {
          "base_uri": "https://localhost:8080/",
          "height": 68
        },
        "outputId": "5f61b7c9-db91-4b02-d642-9434b18e17df"
      },
      "cell_type": "code",
      "source": [
        "# The output of values at t=1\n",
        "y1_output_vals"
      ],
      "execution_count": 13,
      "outputs": [
        {
          "output_type": "execute_result",
          "data": {
            "text/plain": [
              "array([[-1.,  1., -1.],\n",
              "       [-1.,  1., -1.],\n",
              "       [-1.,  1., -1.]], dtype=float32)"
            ]
          },
          "metadata": {
            "tags": []
          },
          "execution_count": 13
        }
      ]
    },
    {
      "metadata": {
        "id": "u4OMUBpygeTQ",
        "colab_type": "text"
      },
      "cell_type": "markdown",
      "source": [
        "# RNN with TensorFlow API"
      ]
    },
    {
      "metadata": {
        "id": "N34vpgg3gdHR",
        "colab_type": "code",
        "colab": {}
      },
      "cell_type": "code",
      "source": [
        "import tensorflow as tf\n",
        "import numpy as np\n",
        "import matplotlib.pyplot as plt\n",
        "%matplotlib inline"
      ],
      "execution_count": 0,
      "outputs": []
    },
    {
      "metadata": {
        "id": "UxDnIEK4o_nK",
        "colab_type": "text"
      },
      "cell_type": "markdown",
      "source": [
        "### The Data"
      ]
    },
    {
      "metadata": {
        "id": "bUyOifgigqCe",
        "colab_type": "code",
        "colab": {}
      },
      "cell_type": "code",
      "source": [
        "class TimeSeriesData():\n",
        "  def __init__(self,num_points,xmin,xmax):\n",
        "    self.xmin = xmin\n",
        "    self.xmax = xmax\n",
        "    self.num_points = num_points\n",
        "    self.resolution = (xmax-xmin)/num_points\n",
        "    self.x_data = np.linspace(xmin,xmax,num_points)\n",
        "    self.y_true = np.sin(self.x_data)\n",
        "    \n",
        "  def ret_true(self,x_series):\n",
        "    return np.sin(x_series)\n",
        "  \n",
        "  def next_batch(self,batch_size,steps,return_batch_ts=False):\n",
        "    # Grab a random starting point for each batch\n",
        "    rand_start = np.random.rand(batch_size, 1)\n",
        "    \n",
        "    # Convert to be on time series\n",
        "    ts_start = rand_start * (self.xmax - self.xmin - (steps*self.resolution))\n",
        "\n",
        "    # Create batch time series on the x axis\n",
        "    batch_ts = ts_start + np.arange(0.0,steps+1) * self.resolution\n",
        "    \n",
        "    # Create the Y data for the time series x axis from previous step\n",
        "    y_batch = np.sin(batch_ts)\n",
        "    \n",
        "    # Formatting for RNN\n",
        "    if return_batch_ts:\n",
        "      return y_batch[:,:-1].reshape(-1,steps,1), y_batch[:,1:].reshape(-1,steps,1), batch_ts\n",
        "    else:\n",
        "      return y_batch[:,:-1].reshape(-1,steps,1), y_batch[:,1:].reshape(-1,steps,1)\n",
        "    "
      ],
      "execution_count": 0,
      "outputs": []
    },
    {
      "metadata": {
        "id": "5veJQ6CUhB1h",
        "colab_type": "code",
        "colab": {}
      },
      "cell_type": "code",
      "source": [
        "ts_data = TimeSeriesData(250,0,10)"
      ],
      "execution_count": 0,
      "outputs": []
    },
    {
      "metadata": {
        "id": "iDTkjjm2jj0m",
        "colab_type": "code",
        "colab": {
          "base_uri": "https://localhost:8080/",
          "height": 282
        },
        "outputId": "704e3196-0cdf-4752-822b-d0aa2e8f0a8e"
      },
      "cell_type": "code",
      "source": [
        "plt.plot(ts_data.x_data,ts_data.y_true)"
      ],
      "execution_count": 17,
      "outputs": [
        {
          "output_type": "execute_result",
          "data": {
            "text/plain": [
              "[<matplotlib.lines.Line2D at 0x7fd2e0139550>]"
            ]
          },
          "metadata": {
            "tags": []
          },
          "execution_count": 17
        },
        {
          "output_type": "display_data",
          "data": {
            "image/png": "[encoded data removed]",
            "text/plain": [
              "<Figure size 432x288 with 1 Axes>"
            ]
          },
          "metadata": {
            "tags": []
          }
        }
      ]
    },
    {
      "metadata": {
        "id": "N75TRuQyjr-q",
        "colab_type": "code",
        "colab": {}
      },
      "cell_type": "code",
      "source": [
        "num_time_steps = 30"
      ],
      "execution_count": 0,
      "outputs": []
    },
    {
      "metadata": {
        "id": "t6uCJ4G0jzHD",
        "colab_type": "code",
        "colab": {}
      },
      "cell_type": "code",
      "source": [
        "y1,y2,ts = ts_data.next_batch(1,num_time_steps,True)"
      ],
      "execution_count": 0,
      "outputs": []
    },
    {
      "metadata": {
        "id": "FeRuA0faj-Is",
        "colab_type": "code",
        "colab": {
          "base_uri": "https://localhost:8080/",
          "height": 282
        },
        "outputId": "5024c69a-fd63-4bc0-cc54-8d76362e3a68"
      },
      "cell_type": "code",
      "source": [
        "plt.plot(ts.flatten()[1:], y2.flatten(), '*')"
      ],
      "execution_count": 20,
      "outputs": [
        {
          "output_type": "execute_result",
          "data": {
            "text/plain": [
              "[<matplotlib.lines.Line2D at 0x7fd2e00cc5f8>]"
            ]
          },
          "metadata": {
            "tags": []
          },
          "execution_count": 20
        },
        {
          "output_type": "display_data",
          "data": {
            "image/png": "[encoded data removed]",
            "text/plain": [
              "<Figure size 432x288 with 1 Axes>"
            ]
          },
          "metadata": {
            "tags": []
          }
        }
      ]
    },
    {
      "metadata": {
        "id": "uzQBNwB9kpw2",
        "colab_type": "code",
        "colab": {
          "base_uri": "https://localhost:8080/",
          "height": 297
        },
        "outputId": "0c91295c-c28d-4d8a-e01e-a97c56c97955"
      },
      "cell_type": "code",
      "source": [
        "plt.plot(ts_data.x_data,ts_data.y_true,label='Sin(t)')\n",
        "plt.plot(ts.flatten()[1:], y2.flatten(), '*', label='Single Training Instance')\n",
        "\n",
        "plt.legend()\n",
        "plt.tight_layout()"
      ],
      "execution_count": 21,
      "outputs": [
        {
          "output_type": "display_data",
          "data": {
            "image/png": "[encoded data removed]",
            "text/plain": [
              "<Figure size 432x288 with 1 Axes>"
            ]
          },
          "metadata": {
            "tags": []
          }
        }
      ]
    },
    {
      "metadata": {
        "id": "pmA_6LV4pM5Q",
        "colab_type": "text"
      },
      "cell_type": "markdown",
      "source": [
        "### A Training Instance and what to predict\n",
        "\n",
        "We are trying to predict a time series shifted over by t+1"
      ]
    },
    {
      "metadata": {
        "id": "IFuilERrlOVC",
        "colab_type": "code",
        "colab": {}
      },
      "cell_type": "code",
      "source": [
        "train_inst = np.linspace(5, 5 + ts_data.resolution * (num_time_steps+1),num_time_steps+1)"
      ],
      "execution_count": 0,
      "outputs": []
    },
    {
      "metadata": {
        "id": "pbVxrIk3lrEs",
        "colab_type": "code",
        "colab": {
          "base_uri": "https://localhost:8080/",
          "height": 136
        },
        "outputId": "80ce7daf-25a3-4ac7-8393-e590d22281df"
      },
      "cell_type": "code",
      "source": [
        "train_inst"
      ],
      "execution_count": 23,
      "outputs": [
        {
          "output_type": "execute_result",
          "data": {
            "text/plain": [
              "array([5.        , 5.04133333, 5.08266667, 5.124     , 5.16533333,\n",
              "       5.20666667, 5.248     , 5.28933333, 5.33066667, 5.372     ,\n",
              "       5.41333333, 5.45466667, 5.496     , 5.53733333, 5.57866667,\n",
              "       5.62      , 5.66133333, 5.70266667, 5.744     , 5.78533333,\n",
              "       5.82666667, 5.868     , 5.90933333, 5.95066667, 5.992     ,\n",
              "       6.03333333, 6.07466667, 6.116     , 6.15733333, 6.19866667,\n",
              "       6.24      ])"
            ]
          },
          "metadata": {
            "tags": []
          },
          "execution_count": 23
        }
      ]
    },
    {
      "metadata": {
        "id": "yOj3OSBPlsdP",
        "colab_type": "code",
        "colab": {
          "base_uri": "https://localhost:8080/",
          "height": 297
        },
        "outputId": "624e3b2f-831e-4342-9000-087e37f5ee0a"
      },
      "cell_type": "code",
      "source": [
        "plt.title('A Training Instance')\n",
        "\n",
        "plt.plot(train_inst[:-1],ts_data.ret_true(train_inst[:-1]),'bo',markersize=15,alpha=0.5,label='Instance Training')\n",
        "plt.plot(train_inst[1:],ts_data.ret_true(train_inst[1:]),'ko',markersize=7,label='Target')\n",
        "\n",
        "plt.legend()"
      ],
      "execution_count": 24,
      "outputs": [
        {
          "output_type": "execute_result",
          "data": {
            "text/plain": [
              "<matplotlib.legend.Legend at 0x7fd3220aa7b8>"
            ]
          },
          "metadata": {
            "tags": []
          },
          "execution_count": 24
        },
        {
          "output_type": "display_data",
          "data": {
            "image/png": "[encoded data removed]",
            "text/plain": [
              "<Figure size 432x288 with 1 Axes>"
            ]
          },
          "metadata": {
            "tags": []
          }
        }
      ]
    },
    {
      "metadata": {
        "id": "z0TR1bjNpsWM",
        "colab_type": "text"
      },
      "cell_type": "markdown",
      "source": [
        "## Creating the Model"
      ]
    },
    {
      "metadata": {
        "id": "bP77h93_mlb9",
        "colab_type": "code",
        "colab": {}
      },
      "cell_type": "code",
      "source": [
        "tf.reset_default_graph()"
      ],
      "execution_count": 0,
      "outputs": []
    },
    {
      "metadata": {
        "id": "YEHekO37pysy",
        "colab_type": "code",
        "colab": {}
      },
      "cell_type": "code",
      "source": [
        "num_inputs = 1"
      ],
      "execution_count": 0,
      "outputs": []
    },
    {
      "metadata": {
        "id": "0XjHG3bVp3Ix",
        "colab_type": "code",
        "colab": {}
      },
      "cell_type": "code",
      "source": [
        "num_neurons = 100"
      ],
      "execution_count": 0,
      "outputs": []
    },
    {
      "metadata": {
        "id": "XX5roCZZp4l-",
        "colab_type": "code",
        "colab": {}
      },
      "cell_type": "code",
      "source": [
        "num_outputs = 1"
      ],
      "execution_count": 0,
      "outputs": []
    },
    {
      "metadata": {
        "id": "neNHQy1Xp6m2",
        "colab_type": "code",
        "colab": {}
      },
      "cell_type": "code",
      "source": [
        "learning_rate = 0.001"
      ],
      "execution_count": 0,
      "outputs": []
    },
    {
      "metadata": {
        "id": "qG-N7QcDp9ai",
        "colab_type": "code",
        "colab": {}
      },
      "cell_type": "code",
      "source": [
        "num_train_iteration = 2000"
      ],
      "execution_count": 0,
      "outputs": []
    },
    {
      "metadata": {
        "id": "znuafJXdqBc-",
        "colab_type": "code",
        "colab": {}
      },
      "cell_type": "code",
      "source": [
        "batch_size = 1"
      ],
      "execution_count": 0,
      "outputs": []
    },
    {
      "metadata": {
        "id": "-VbRdRF4qD11",
        "colab_type": "text"
      },
      "cell_type": "markdown",
      "source": [
        "### Placeholders\n"
      ]
    },
    {
      "metadata": {
        "id": "y9ZJ9ZebqCoz",
        "colab_type": "code",
        "colab": {}
      },
      "cell_type": "code",
      "source": [
        "X = tf.placeholder(tf.float32,[None,num_time_steps,num_inputs])"
      ],
      "execution_count": 0,
      "outputs": []
    },
    {
      "metadata": {
        "id": "wHwGp1_VqP52",
        "colab_type": "code",
        "colab": {}
      },
      "cell_type": "code",
      "source": [
        "y = tf.placeholder(tf.float32,[None,num_time_steps,num_outputs])"
      ],
      "execution_count": 0,
      "outputs": []
    },
    {
      "metadata": {
        "id": "rZABax6cqgbq",
        "colab_type": "text"
      },
      "cell_type": "markdown",
      "source": [
        "### RNN Cell Layer"
      ]
    },
    {
      "metadata": {
        "id": "QNu2tJQNqaA2",
        "colab_type": "code",
        "colab": {}
      },
      "cell_type": "code",
      "source": [
        "cell = tf.contrib.rnn.OutputProjectionWrapper(tf.contrib.rnn.GRUCell(num_units=num_neurons, activation=tf.nn.relu),output_size=num_outputs)"
      ],
      "execution_count": 0,
      "outputs": []
    },
    {
      "metadata": {
        "id": "V-6Y3YakrGd9",
        "colab_type": "code",
        "colab": {}
      },
      "cell_type": "code",
      "source": [
        "outputs, states = tf.nn.dynamic_rnn(cell,X,dtype=tf.float32)"
      ],
      "execution_count": 0,
      "outputs": []
    },
    {
      "metadata": {
        "id": "b1NtHj0xyrwH",
        "colab_type": "code",
        "colab": {}
      },
      "cell_type": "code",
      "source": [
        "# MSE\n",
        "loss = tf.reduce_mean(tf.square(outputs-y)) "
      ],
      "execution_count": 0,
      "outputs": []
    },
    {
      "metadata": {
        "id": "g1N3FEZhy00a",
        "colab_type": "code",
        "colab": {}
      },
      "cell_type": "code",
      "source": [
        "optimizer = tf.train.AdamOptimizer(learning_rate=learning_rate)"
      ],
      "execution_count": 0,
      "outputs": []
    },
    {
      "metadata": {
        "id": "RtyQRRMZy6m-",
        "colab_type": "code",
        "colab": {}
      },
      "cell_type": "code",
      "source": [
        "train = optimizer.minimize(loss)"
      ],
      "execution_count": 0,
      "outputs": []
    },
    {
      "metadata": {
        "id": "nvJYMrhsy9Y8",
        "colab_type": "code",
        "colab": {}
      },
      "cell_type": "code",
      "source": [
        "init = tf.global_variables_initializer()"
      ],
      "execution_count": 0,
      "outputs": []
    },
    {
      "metadata": {
        "id": "PVrlwRcYzB_f",
        "colab_type": "text"
      },
      "cell_type": "markdown",
      "source": [
        "### Session"
      ]
    },
    {
      "metadata": {
        "id": "NSVcoHziy_xP",
        "colab_type": "code",
        "colab": {}
      },
      "cell_type": "code",
      "source": [
        "gpu_options = tf.GPUOptions(per_process_gpu_memory_fraction=0.85)"
      ],
      "execution_count": 0,
      "outputs": []
    },
    {
      "metadata": {
        "id": "-wtOVrw7zbKi",
        "colab_type": "code",
        "colab": {}
      },
      "cell_type": "code",
      "source": [
        "saver = tf.train.Saver()"
      ],
      "execution_count": 0,
      "outputs": []
    },
    {
      "metadata": {
        "id": "-N5d8aubzeXq",
        "colab_type": "code",
        "colab": {
          "base_uri": "https://localhost:8080/",
          "height": 357
        },
        "outputId": "d467e692-6cbe-4b0c-9d4e-2f3801f508ff"
      },
      "cell_type": "code",
      "source": [
        "with tf.Session(config = tf.ConfigProto(gpu_options=gpu_options)) as sess:\n",
        "  sess.run(init)\n",
        "  \n",
        "  for iteration in range(num_train_iteration):\n",
        "    X_batch, y_batch = ts_data.next_batch(batch_size,num_time_steps)\n",
        "    \n",
        "    sess.run(train,feed_dict = {X:X_batch,y:y_batch})\n",
        "    \n",
        "    if iteration % 100 == 0:\n",
        "      mse = loss.eval(feed_dict={X:X_batch,y:y_batch})\n",
        "      print(iteration, \"\\tMSE\", mse)\n",
        "      \n",
        "  saver.save(sess,\"./rnn_time_series_model_codealong\")"
      ],
      "execution_count": 62,
      "outputs": [
        {
          "output_type": "stream",
          "text": [
            "0 \tMSE 0.7668903\n",
            "100 \tMSE 0.030686842\n",
            "200 \tMSE 0.0052830717\n",
            "300 \tMSE 0.01725878\n",
            "400 \tMSE 0.01771579\n",
            "500 \tMSE 0.005394606\n",
            "600 \tMSE 0.0021131176\n",
            "700 \tMSE 0.00072153646\n",
            "800 \tMSE 0.0021717644\n",
            "900 \tMSE 0.003175331\n",
            "1000 \tMSE 0.00041162706\n",
            "1100 \tMSE 0.0019410157\n",
            "1200 \tMSE 0.0004917385\n",
            "1300 \tMSE 0.0001880892\n",
            "1400 \tMSE 2.3518493e-05\n",
            "1500 \tMSE 0.0003006468\n",
            "1600 \tMSE 3.8455233e-05\n",
            "1700 \tMSE 7.831181e-05\n",
            "1800 \tMSE 4.2782616e-05\n",
            "1900 \tMSE 0.00013099254\n"
          ],
          "name": "stdout"
        }
      ]
    },
    {
      "metadata": {
        "id": "kmwsXD810rea",
        "colab_type": "code",
        "colab": {
          "base_uri": "https://localhost:8080/",
          "height": 34
        },
        "outputId": "ca25858b-d986-4009-9810-d1ede3b5c63e"
      },
      "cell_type": "code",
      "source": [
        "with tf.Session() as sess:\n",
        "  saver.restore(sess,\"./rnn_time_series_model_codealong\")\n",
        "  \n",
        "  X_new = np.sin(np.array(train_inst[:-1].reshape(-1,num_time_steps,num_inputs)))\n",
        "  y_pred = sess.run(outputs, feed_dict={X:X_new})"
      ],
      "execution_count": 63,
      "outputs": [
        {
          "output_type": "stream",
          "text": [
            "INFO:tensorflow:Restoring parameters from ./rnn_time_series_model_codealong\n"
          ],
          "name": "stdout"
        }
      ]
    },
    {
      "metadata": {
        "id": "0zFz1RKW1MIU",
        "colab_type": "code",
        "colab": {
          "base_uri": "https://localhost:8080/",
          "height": 297
        },
        "outputId": "14395f32-7edf-44c1-a70b-6605e58a9ac2"
      },
      "cell_type": "code",
      "source": [
        "plt.title(\"Testing The Model\")\n",
        "\n",
        "# Training Instance\n",
        "plt.plot(train_inst[:-1],np.sin(train_inst[:-1]),\"bo\",markersize=15,alpha=0.5,label=\"Training Inst\")\n",
        "\n",
        "# Target To Predict (Correct Test Values np.sin(Train))\n",
        "plt.plot(train_inst[1:],np.sin(train_inst[1:]),\"ko\",markersize=10,label=\"Target\")\n",
        "\n",
        "# Models Prediction\n",
        "plt.plot(train_inst[1:],y_pred[0,:,0],'r.',markersize=10,label=\"Predictions\")\n",
        "\n",
        "plt.xlabel(\"Time\")\n",
        "plt.legend()\n",
        "plt.tight_layout()"
      ],
      "execution_count": 64,
      "outputs": [
        {
          "output_type": "display_data",
          "data": {
            "image/png": "[encoded data removed]",
            "text/plain": [
              "<Figure size 432x288 with 1 Axes>"
            ]
          },
          "metadata": {
            "tags": []
          }
        }
      ]
    },
    {
      "metadata": {
        "id": "20f2F7PX4QlW",
        "colab_type": "text"
      },
      "cell_type": "markdown",
      "source": [
        "## Generating New Sequence"
      ]
    },
    {
      "metadata": {
        "id": "oc47CmSJ2T49",
        "colab_type": "code",
        "colab": {
          "base_uri": "https://localhost:8080/",
          "height": 34
        },
        "outputId": "d6b4ccda-9f4f-4532-fd09-658d6f490295"
      },
      "cell_type": "code",
      "source": [
        "with tf.Session() as sess:\n",
        "  saver.restore(sess,\"./rnn_time_series_model_codealong\")\n",
        "  \n",
        "  # Seed Zeros\n",
        "  zero_seq_seed = [0.0 for i in range(num_time_steps)]\n",
        "  \n",
        "  for iteration in range(len(ts_data.x_data)-num_time_steps):\n",
        "    X_batch = np.array(zero_seq_seed[-num_time_steps:]).reshape(1,num_time_steps,1)\n",
        "    \n",
        "    y_pred = sess.run(outputs,feed_dict={X:X_batch})\n",
        "    \n",
        "    zero_seq_seed.append(y_pred[0,-1,0])"
      ],
      "execution_count": 68,
      "outputs": [
        {
          "output_type": "stream",
          "text": [
            "INFO:tensorflow:Restoring parameters from ./rnn_time_series_model_codealong\n"
          ],
          "name": "stdout"
        }
      ]
    },
    {
      "metadata": {
        "id": "KYc43qnQ5J3h",
        "colab_type": "code",
        "colab": {
          "base_uri": "https://localhost:8080/",
          "height": 307
        },
        "outputId": "dd864f68-0b13-477e-f636-c7f400739892"
      },
      "cell_type": "code",
      "source": [
        "plt.plot(ts_data.x_data,zero_seq_seed,'b-')\n",
        "plt.plot(ts_data.x_data[:num_time_steps],zero_seq_seed[:num_time_steps],'r',linewidth=3)\n",
        "plt.xlabel('Time')\n",
        "plt.ylabel('Y')"
      ],
      "execution_count": 69,
      "outputs": [
        {
          "output_type": "execute_result",
          "data": {
            "text/plain": [
              "Text(0, 0.5, 'Y')"
            ]
          },
          "metadata": {
            "tags": []
          },
          "execution_count": 69
        },
        {
          "output_type": "display_data",
          "data": {
            "image/png": "[encoded data removed]",
            "text/plain": [
              "<Figure size 432x288 with 1 Axes>"
            ]
          },
          "metadata": {
            "tags": []
          }
        }
      ]
    },
    {
      "metadata": {
        "id": "CTRWIxxt6gyH",
        "colab_type": "code",
        "colab": {
          "base_uri": "https://localhost:8080/",
          "height": 34
        },
        "outputId": "52db1d4c-fc27-4f74-cf95-eb038e6c408e"
      },
      "cell_type": "code",
      "source": [
        "with tf.Session() as sess:\n",
        "  saver.restore(sess,\"./rnn_time_series_model_codealong\")\n",
        "  \n",
        "  # Seed Zeros\n",
        "  training_instance = list(ts_data.y_true[:30])\n",
        "  \n",
        "  for iteration in range(len(ts_data.x_data)-num_time_steps):\n",
        "    X_batch = np.array(training_instance[-num_time_steps:]).reshape(1,num_time_steps,1)\n",
        "    \n",
        "    y_pred = sess.run(outputs,feed_dict={X:X_batch})\n",
        "    \n",
        "    training_instance.append(y_pred[0,-1,0])"
      ],
      "execution_count": 72,
      "outputs": [
        {
          "output_type": "stream",
          "text": [
            "INFO:tensorflow:Restoring parameters from ./rnn_time_series_model_codealong\n"
          ],
          "name": "stdout"
        }
      ]
    },
    {
      "metadata": {
        "id": "hoo6Tgd965k5",
        "colab_type": "code",
        "colab": {
          "base_uri": "https://localhost:8080/",
          "height": 307
        },
        "outputId": "bea59165-224b-4b36-d1f1-2cb80ade1728"
      },
      "cell_type": "code",
      "source": [
        "plt.plot(ts_data.x_data,training_instance,'b-')\n",
        "plt.plot(ts_data.x_data[:num_time_steps],training_instance[:num_time_steps],'r',linewidth=3)\n",
        "plt.xlabel('Time')\n",
        "plt.ylabel('Y')"
      ],
      "execution_count": 73,
      "outputs": [
        {
          "output_type": "execute_result",
          "data": {
            "text/plain": [
              "Text(0, 0.5, 'Y')"
            ]
          },
          "metadata": {
            "tags": []
          },
          "execution_count": 73
        },
        {
          "output_type": "display_data",
          "data": {
            "image/png": "[encoded data removed]",
            "text/plain": [
              "<Figure size 432x288 with 1 Axes>"
            ]
          },
          "metadata": {
            "tags": []
          }
        }
      ]
    },
    {
      "metadata": {
        "id": "pmzXUp3Y7Ckh",
        "colab_type": "code",
        "colab": {}
      },
      "cell_type": "code",
      "source": [
        ""
      ],
      "execution_count": 0,
      "outputs": []
    }
  ]
}