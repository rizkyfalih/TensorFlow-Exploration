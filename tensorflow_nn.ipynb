{
  "nbformat": 4,
  "nbformat_minor": 0,
  "metadata": {
    "colab": {
      "name": "tensorflow_nn.ipynb",
      "version": "0.3.2",
      "provenance": [],
      "collapsed_sections": []
    },
    "kernelspec": {
      "name": "python3",
      "display_name": "Python 3"
    }
  },
  "cells": [
    {
      "metadata": {
        "id": "-jsVGImjg46a",
        "colab_type": "text"
      },
      "cell_type": "markdown",
      "source": [
        "# First Neurons"
      ]
    },
    {
      "metadata": {
        "id": "anIJa1JhhqMP",
        "colab_type": "code",
        "colab": {}
      },
      "cell_type": "code",
      "source": [
        "import numpy as np\n",
        "import tensorflow as tf"
      ],
      "execution_count": 0,
      "outputs": []
    },
    {
      "metadata": {
        "id": "Re6TbFfng8-1",
        "colab_type": "text"
      },
      "cell_type": "markdown",
      "source": [
        "**Set Radom Seeds for same result**"
      ]
    },
    {
      "metadata": {
        "id": "kTiJcatEhxek",
        "colab_type": "code",
        "colab": {}
      },
      "cell_type": "code",
      "source": [
        "np.random.seed(101)\n",
        "tf.set_random_seed(101)"
      ],
      "execution_count": 0,
      "outputs": []
    },
    {
      "metadata": {
        "id": "fMFi0ZewhFeg",
        "colab_type": "text"
      },
      "cell_type": "markdown",
      "source": [
        "**Data Setup**"
      ]
    },
    {
      "metadata": {
        "id": "o_y4QF8GhILF",
        "colab_type": "text"
      },
      "cell_type": "markdown",
      "source": [
        "Setting Up some Random Data for Demonstration Purposes"
      ]
    },
    {
      "metadata": {
        "id": "safaBWJfiOf4",
        "colab_type": "code",
        "outputId": "0079a0ea-7d28-4fc5-a0d6-7b3177bcd87b",
        "colab": {
          "base_uri": "https://localhost:8080/",
          "height": 102
        }
      },
      "cell_type": "code",
      "source": [
        "rand_a = np.random.uniform(0,100,(5,5))\n",
        "rand_a"
      ],
      "execution_count": 0,
      "outputs": [
        {
          "output_type": "execute_result",
          "data": {
            "text/plain": [
              "array([[51.63986277, 57.06675869,  2.84742265, 17.15216562, 68.52769817],\n",
              "       [83.38968626, 30.69662197, 89.36130797, 72.15438618, 18.99389542],\n",
              "       [55.42275911, 35.2131954 , 18.18924027, 78.56017619, 96.54832224],\n",
              "       [23.23536618,  8.35614337, 60.35484223, 72.89927573, 27.62388285],\n",
              "       [68.53063288, 51.78674742,  4.84845374, 13.78692376, 18.69674261]])"
            ]
          },
          "metadata": {
            "tags": []
          },
          "execution_count": 3
        }
      ]
    },
    {
      "metadata": {
        "id": "gJ32TGn-iamZ",
        "colab_type": "code",
        "outputId": "e3140563-75c7-4ea8-ba7c-c4fe50b6c878",
        "colab": {
          "base_uri": "https://localhost:8080/",
          "height": 102
        }
      },
      "cell_type": "code",
      "source": [
        "rand_b = np.random.uniform(0,100,(5,1))\n",
        "rand_b"
      ],
      "execution_count": 0,
      "outputs": [
        {
          "output_type": "execute_result",
          "data": {
            "text/plain": [
              "array([[99.43179012],\n",
              "       [52.06653967],\n",
              "       [57.87895355],\n",
              "       [73.48190583],\n",
              "       [54.19617722]])"
            ]
          },
          "metadata": {
            "tags": []
          },
          "execution_count": 4
        }
      ]
    },
    {
      "metadata": {
        "id": "z_ngP8umhfdD",
        "colab_type": "text"
      },
      "cell_type": "markdown",
      "source": [
        "### Placeholders"
      ]
    },
    {
      "metadata": {
        "id": "s0y6DVRJigFA",
        "colab_type": "code",
        "colab": {}
      },
      "cell_type": "code",
      "source": [
        "a = tf.placeholder(tf.float32)"
      ],
      "execution_count": 0,
      "outputs": []
    },
    {
      "metadata": {
        "id": "Td1rj8w9inMV",
        "colab_type": "code",
        "colab": {}
      },
      "cell_type": "code",
      "source": [
        "b = tf.placeholder(tf.float32)"
      ],
      "execution_count": 0,
      "outputs": []
    },
    {
      "metadata": {
        "id": "5rlX5K4BlGPV",
        "colab_type": "text"
      },
      "cell_type": "markdown",
      "source": [
        "### Operations"
      ]
    },
    {
      "metadata": {
        "id": "njIa5Fnjiqd7",
        "colab_type": "code",
        "colab": {}
      },
      "cell_type": "code",
      "source": [
        "add_op = a + b"
      ],
      "execution_count": 0,
      "outputs": []
    },
    {
      "metadata": {
        "id": "eM8qW6T_i3kq",
        "colab_type": "code",
        "colab": {}
      },
      "cell_type": "code",
      "source": [
        "mul_op = a * b"
      ],
      "execution_count": 0,
      "outputs": []
    },
    {
      "metadata": {
        "id": "rzP12dJ4lJYj",
        "colab_type": "text"
      },
      "cell_type": "markdown",
      "source": [
        "### Running Sessions to create Graphs with Feed Dictionaries"
      ]
    },
    {
      "metadata": {
        "id": "vXheuZmwi6_1",
        "colab_type": "code",
        "outputId": "13baf160-84e9-4f69-9acf-1d4582d0ce2f",
        "colab": {
          "base_uri": "https://localhost:8080/",
          "height": 187
        }
      },
      "cell_type": "code",
      "source": [
        "with tf.Session() as sess:\n",
        "  add_result = sess.run(add_op,feed_dict={a:rand_a,b:rand_b})\n",
        "  print(add_result)\n",
        "  \n",
        "  mult_result = sess.run(mul_op,feed_dict={a:rand_a,b:rand_b})\n",
        "  print(mult_result)"
      ],
      "execution_count": 0,
      "outputs": [
        {
          "output_type": "stream",
          "text": [
            "[[151.07166  156.49855  102.27921  116.58396  167.95949 ]\n",
            " [135.45622   82.76316  141.42784  124.22093   71.06043 ]\n",
            " [113.30171   93.09215   76.06819  136.43912  154.42728 ]\n",
            " [ 96.71727   81.83804  133.83675  146.38118  101.10579 ]\n",
            " [122.72681  105.982925  59.044632  67.9831    72.89292 ]]\n",
            "[[5134.644   5674.25     283.12433 1705.4707  6813.8315 ]\n",
            " [4341.8125  1598.267   4652.734   3756.8293   988.94635]\n",
            " [3207.8113  2038.1029  1052.7742  4546.9805  5588.1157 ]\n",
            " [1707.379    614.02527 4434.989   5356.7773  2029.8555 ]\n",
            " [3714.0984  2806.6438   262.76764  747.19855 1013.292  ]]\n"
          ],
          "name": "stdout"
        }
      ]
    },
    {
      "metadata": {
        "id": "Ef-PDpo0jvrM",
        "colab_type": "text"
      },
      "cell_type": "markdown",
      "source": [
        "# Example Neural Network"
      ]
    },
    {
      "metadata": {
        "id": "UKoqih9XkMzo",
        "colab_type": "code",
        "colab": {}
      },
      "cell_type": "code",
      "source": [
        "import numpy as np\n",
        "import tensorflow as tf"
      ],
      "execution_count": 0,
      "outputs": []
    },
    {
      "metadata": {
        "id": "aRcfzOYhjK7P",
        "colab_type": "code",
        "colab": {}
      },
      "cell_type": "code",
      "source": [
        "n_features = 10\n",
        "n_dense_neurons = 3"
      ],
      "execution_count": 0,
      "outputs": []
    },
    {
      "metadata": {
        "id": "Ow1bxVxojv88",
        "colab_type": "code",
        "colab": {}
      },
      "cell_type": "code",
      "source": [
        "# Placeholder for x\n",
        "x = tf.placeholder(tf.float32,(None, n_features))"
      ],
      "execution_count": 0,
      "outputs": []
    },
    {
      "metadata": {
        "id": "9KqiHtIDkC0C",
        "colab_type": "code",
        "colab": {}
      },
      "cell_type": "code",
      "source": [
        "# Variable W and b\n",
        "W = tf.Variable(tf.random_normal([n_features,n_dense_neurons]))\n",
        "\n",
        "b = tf.Variable(tf.ones([n_dense_neurons]))"
      ],
      "execution_count": 0,
      "outputs": []
    },
    {
      "metadata": {
        "id": "_og4qfz9lZvc",
        "colab_type": "text"
      },
      "cell_type": "markdown",
      "source": [
        "**Operation Activation Function**"
      ]
    },
    {
      "metadata": {
        "id": "uvTTJVHhHSeR",
        "colab_type": "code",
        "colab": {}
      },
      "cell_type": "code",
      "source": [
        "xW = tf.matmul(x,W)"
      ],
      "execution_count": 0,
      "outputs": []
    },
    {
      "metadata": {
        "id": "uPTmtKlQHjH5",
        "colab_type": "code",
        "colab": {}
      },
      "cell_type": "code",
      "source": [
        "z = tf.add(xW,b)"
      ],
      "execution_count": 0,
      "outputs": []
    },
    {
      "metadata": {
        "id": "i1atyi9oHlQt",
        "colab_type": "code",
        "colab": {}
      },
      "cell_type": "code",
      "source": [
        "# tf.nn.relu() or tf.tanh()\n",
        "a = tf.sigmoid(z)"
      ],
      "execution_count": 0,
      "outputs": []
    },
    {
      "metadata": {
        "id": "1th1NW6ZljCC",
        "colab_type": "text"
      },
      "cell_type": "markdown",
      "source": [
        "**Variable Intializer**"
      ]
    },
    {
      "metadata": {
        "id": "KZOlsjjhHzae",
        "colab_type": "code",
        "colab": {}
      },
      "cell_type": "code",
      "source": [
        "init = tf.global_variables_initializer()"
      ],
      "execution_count": 0,
      "outputs": []
    },
    {
      "metadata": {
        "id": "W4iOsvjgH8wk",
        "colab_type": "code",
        "colab": {}
      },
      "cell_type": "code",
      "source": [
        "with tf.Session() as sess:\n",
        "  sess.run(init)\n",
        "  \n",
        "  layer_out = sess.run(a,feed_dict={x:np.random.random([1, n_features])})"
      ],
      "execution_count": 0,
      "outputs": []
    },
    {
      "metadata": {
        "id": "VJNvGoceIPWj",
        "colab_type": "code",
        "outputId": "da0a3e40-4180-44f4-9939-a2db54211437",
        "colab": {
          "base_uri": "https://localhost:8080/",
          "height": 34
        }
      },
      "cell_type": "code",
      "source": [
        "print(layer_out)"
      ],
      "execution_count": 0,
      "outputs": [
        {
          "output_type": "stream",
          "text": [
            "[[0.19592889 0.8423014  0.36188066]]\n"
          ],
          "name": "stdout"
        }
      ]
    },
    {
      "metadata": {
        "id": "elkXmGtal23K",
        "colab_type": "text"
      },
      "cell_type": "markdown",
      "source": [
        "## Full Network Example\n",
        "\n",
        "Let's work on a regression example, we are trying to solve a very simple equation:\n",
        "\n",
        "y = mx + b\n",
        "\n",
        "y will be the y_labels and x is the x_data. We are trying to figure out the slope and the intercept for the line that best fits our data!"
      ]
    },
    {
      "metadata": {
        "id": "Y4C-KYYfIldH",
        "colab_type": "text"
      },
      "cell_type": "markdown",
      "source": [
        "### Artifical Data (Some Made Up Regression Data)"
      ]
    },
    {
      "metadata": {
        "id": "c5UTVvogIRyc",
        "colab_type": "code",
        "colab": {}
      },
      "cell_type": "code",
      "source": [
        "x_data = np.linspace(0,10,10) + np.random.uniform(-1.5,1.5, 10)"
      ],
      "execution_count": 0,
      "outputs": []
    },
    {
      "metadata": {
        "id": "0G8gBZJzIwjw",
        "colab_type": "code",
        "outputId": "e2450aab-0ea4-41c4-ac95-14c3f405570d",
        "colab": {
          "base_uri": "https://localhost:8080/",
          "height": 51
        }
      },
      "cell_type": "code",
      "source": [
        "x_data"
      ],
      "execution_count": 0,
      "outputs": [
        {
          "output_type": "execute_result",
          "data": {
            "text/plain": [
              "array([-1.20856056, -0.08034641,  2.82674411,  4.50477294,  3.42312535,\n",
              "        4.88227319,  7.18414126,  6.77068715,  9.4930023 ,  9.96290567])"
            ]
          },
          "metadata": {
            "tags": []
          },
          "execution_count": 21
        }
      ]
    },
    {
      "metadata": {
        "id": "5CUAJ0Y4I391",
        "colab_type": "code",
        "colab": {}
      },
      "cell_type": "code",
      "source": [
        "y_label = np.linspace(0,10,10) + np.random.uniform(-1.5,1.5, 10)"
      ],
      "execution_count": 0,
      "outputs": []
    },
    {
      "metadata": {
        "id": "zshNWOmtMJHd",
        "colab_type": "code",
        "outputId": "33ebc50d-3c24-426a-dbc7-25957bc6d797",
        "colab": {
          "base_uri": "https://localhost:8080/",
          "height": 51
        }
      },
      "cell_type": "code",
      "source": [
        "y_label"
      ],
      "execution_count": 0,
      "outputs": [
        {
          "output_type": "execute_result",
          "data": {
            "text/plain": [
              "array([0.5420333 , 1.17575569, 0.85241231, 2.50514314, 4.67005971,\n",
              "       4.41685654, 6.66701681, 6.69180648, 7.54731409, 9.03483077])"
            ]
          },
          "metadata": {
            "tags": []
          },
          "execution_count": 23
        }
      ]
    },
    {
      "metadata": {
        "id": "P7IEKmdpMKyg",
        "colab_type": "code",
        "colab": {}
      },
      "cell_type": "code",
      "source": [
        "import matplotlib.pyplot as plt\n",
        "%matplotlib inline"
      ],
      "execution_count": 0,
      "outputs": []
    },
    {
      "metadata": {
        "id": "zmcL1JHve2NJ",
        "colab_type": "code",
        "outputId": "7fd7d30a-64c3-456a-e439-cceb8c1d3366",
        "colab": {
          "base_uri": "https://localhost:8080/",
          "height": 282
        }
      },
      "cell_type": "code",
      "source": [
        "plt.plot(x_data,y_label, '*')"
      ],
      "execution_count": 0,
      "outputs": [
        {
          "output_type": "execute_result",
          "data": {
            "text/plain": [
              "[<matplotlib.lines.Line2D at 0x7fc1824eba90>]"
            ]
          },
          "metadata": {
            "tags": []
          },
          "execution_count": 25
        },
        {
          "output_type": "display_data",
          "data": {
            "image/png": "[encoded data removed]",
            "text/plain": [
              "<Figure size 432x288 with 1 Axes>"
            ]
          },
          "metadata": {
            "tags": []
          }
        }
      ]
    },
    {
      "metadata": {
        "id": "-C7Hmp0ofd9T",
        "colab_type": "text"
      },
      "cell_type": "markdown",
      "source": [
        "**Variables**"
      ]
    },
    {
      "metadata": {
        "id": "k1YfKh7Se64I",
        "colab_type": "code",
        "outputId": "352ef15e-6b8c-4eeb-91a2-c455030998e1",
        "colab": {
          "base_uri": "https://localhost:8080/",
          "height": 34
        }
      },
      "cell_type": "code",
      "source": [
        "np.random.rand(2)"
      ],
      "execution_count": 0,
      "outputs": [
        {
          "output_type": "execute_result",
          "data": {
            "text/plain": [
              "array([0.6517677 , 0.42456894])"
            ]
          },
          "metadata": {
            "tags": []
          },
          "execution_count": 34
        }
      ]
    },
    {
      "metadata": {
        "id": "587w9EPefOnN",
        "colab_type": "code",
        "colab": {}
      },
      "cell_type": "code",
      "source": [
        "m = tf.Variable(0.44)\n",
        "b = tf.Variable(0.87)"
      ],
      "execution_count": 0,
      "outputs": []
    },
    {
      "metadata": {
        "id": "RfcY-ELcmWvJ",
        "colab_type": "text"
      },
      "cell_type": "markdown",
      "source": [
        "### Cost Function"
      ]
    },
    {
      "metadata": {
        "id": "GPXXLUSSfnwZ",
        "colab_type": "code",
        "colab": {}
      },
      "cell_type": "code",
      "source": [
        "error = 0 \n",
        "\n",
        "for x,y in zip(x_data,y_label):\n",
        "  y_hat = m*x + b\n",
        "  \n",
        "  error += (y-y_hat)**2"
      ],
      "execution_count": 0,
      "outputs": []
    },
    {
      "metadata": {
        "id": "dj8poVLtmZ2t",
        "colab_type": "text"
      },
      "cell_type": "markdown",
      "source": [
        "### Optimizer"
      ]
    },
    {
      "metadata": {
        "id": "M-tY1rJ4gBGo",
        "colab_type": "code",
        "colab": {}
      },
      "cell_type": "code",
      "source": [
        "optimizer = tf.train.GradientDescentOptimizer(learning_rate=0.001)\n",
        "train = optimizer.minimize(error)"
      ],
      "execution_count": 0,
      "outputs": []
    },
    {
      "metadata": {
        "id": "jcBlMqiDmfyb",
        "colab_type": "text"
      },
      "cell_type": "markdown",
      "source": [
        "### Initialize Variables"
      ]
    },
    {
      "metadata": {
        "id": "vQ32MAkiglzz",
        "colab_type": "code",
        "colab": {}
      },
      "cell_type": "code",
      "source": [
        "init = tf.global_variables_initializer()"
      ],
      "execution_count": 0,
      "outputs": []
    },
    {
      "metadata": {
        "id": "scKaNTr4miVL",
        "colab_type": "text"
      },
      "cell_type": "markdown",
      "source": [
        "### Create Session and Run"
      ]
    },
    {
      "metadata": {
        "id": "e2Q_es0kg9_s",
        "colab_type": "code",
        "colab": {}
      },
      "cell_type": "code",
      "source": [
        "with tf.Session() as sess:\n",
        "  sess.run(init)\n",
        "  \n",
        "  training_steps = 100\n",
        "  \n",
        "  for i in range(training_steps):\n",
        "    sess.run(train)\n",
        "    \n",
        "  final_slope, final_intercept = sess.run([m,b])"
      ],
      "execution_count": 0,
      "outputs": []
    },
    {
      "metadata": {
        "id": "DOlh4CScmrxf",
        "colab_type": "text"
      },
      "cell_type": "markdown",
      "source": [
        "### Evaluate Results"
      ]
    },
    {
      "metadata": {
        "id": "AXbbp3uqhMD6",
        "colab_type": "code",
        "outputId": "ca0add13-7119-4be2-d865-1eaf6f972855",
        "colab": {
          "base_uri": "https://localhost:8080/",
          "height": 282
        }
      },
      "cell_type": "code",
      "source": [
        "x_test = np.linspace(-1,11,10)\n",
        "\n",
        "# y = mx + b\n",
        "y_pred_plot = final_slope*x_test + final_intercept\n",
        "\n",
        "plt.plot(x_test,y_pred_plot, 'r')\n",
        "plt.plot(x_data,y_label, '*')\n"
      ],
      "execution_count": 0,
      "outputs": [
        {
          "output_type": "execute_result",
          "data": {
            "text/plain": [
              "[<matplotlib.lines.Line2D at 0x7fc17f87e748>]"
            ]
          },
          "metadata": {
            "tags": []
          },
          "execution_count": 42
        },
        {
          "output_type": "display_data",
          "data": {
            "image/png": "[encoded data removed]",
            "text/plain": [
              "<Figure size 432x288 with 1 Axes>"
            ]
          },
          "metadata": {
            "tags": []
          }
        }
      ]
    }
  ]
}