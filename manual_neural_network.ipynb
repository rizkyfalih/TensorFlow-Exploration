{
  "nbformat": 4,
  "nbformat_minor": 0,
  "metadata": {
    "colab": {
      "name": "manual_neural_network.ipynb",
      "version": "0.3.2",
      "provenance": [],
      "collapsed_sections": []
    },
    "kernelspec": {
      "name": "python3",
      "display_name": "Python 3"
    },
    "accelerator": "GPU"
  },
  "cells": [
    {
      "metadata": {
        "id": "jKgtwlFyuD9Z",
        "colab_type": "text"
      },
      "cell_type": "markdown",
      "source": [
        "# Manual Neural Network\n",
        "\n",
        "In this notebook we will manually build out a neural network that mimics the TensorFlow API. This will greatly help your understanding when working with the real TensorFlow!"
      ]
    },
    {
      "metadata": {
        "id": "yh8aB5alt7pG",
        "colab_type": "code",
        "colab": {}
      },
      "cell_type": "code",
      "source": [
        "class Operation():\n",
        "  def __init__(self, input_nodes=[]):\n",
        "    self.input_nodes = input_nodes\n",
        "    self.output_nodes = []\n",
        "    \n",
        "    for node in input_nodes:\n",
        "      node.output_nodes.append(self)\n",
        "  \n",
        "    _default_graph.operations.append(self)\n",
        "  \n",
        "  def compute(self):\n",
        "    pass\n",
        "  \n",
        " "
      ],
      "execution_count": 0,
      "outputs": []
    },
    {
      "metadata": {
        "id": "xqpxkO4_veDX",
        "colab_type": "code",
        "colab": {}
      },
      "cell_type": "code",
      "source": [
        "class add(Operation):\n",
        "  def __init__(self,x,y):\n",
        "    super().__init__([x,y])\n",
        "    \n",
        "  def compute(self, x_var, y_var):\n",
        "    self.inputs = [x_var, y_var]\n",
        "    return x_var+y_var"
      ],
      "execution_count": 0,
      "outputs": []
    },
    {
      "metadata": {
        "id": "BjWCYdTJv763",
        "colab_type": "code",
        "colab": {}
      },
      "cell_type": "code",
      "source": [
        "class multiply(Operation):\n",
        "  def __init__(self,x,y):\n",
        "    super().__init__([x,y])\n",
        "    \n",
        "  def compute(self, x_var, y_var):\n",
        "    self.inputs = [x_var, y_var]\n",
        "    return x_var * y_var"
      ],
      "execution_count": 0,
      "outputs": []
    },
    {
      "metadata": {
        "id": "O7DcUpkPwEQa",
        "colab_type": "code",
        "colab": {}
      },
      "cell_type": "code",
      "source": [
        "class matmul(Operation):\n",
        "  def __init__(self,x,y):\n",
        "    super().__init__([x,y])\n",
        "    \n",
        "  def compute(self, x_var, y_var):\n",
        "    self.inputs = [x_var, y_var]\n",
        "    \n",
        "    return x_var.dot(y_var)"
      ],
      "execution_count": 0,
      "outputs": []
    },
    {
      "metadata": {
        "id": "wO_pacn9wkNJ",
        "colab_type": "code",
        "colab": {}
      },
      "cell_type": "code",
      "source": [
        "class Placeholder():\n",
        "  \n",
        "  def __init__(self):\n",
        "    self.output_nodes = []\n",
        "    _default_graph.placeholders.append(self)"
      ],
      "execution_count": 0,
      "outputs": []
    },
    {
      "metadata": {
        "id": "6spLqEJnwwP5",
        "colab_type": "code",
        "colab": {}
      },
      "cell_type": "code",
      "source": [
        "class Variable():\n",
        "  def __init__(self,initial_value=None):\n",
        "    self.value = initial_value\n",
        "    self.output_nodes = []\n",
        "    \n",
        "    _default_graph.variables.append(self)"
      ],
      "execution_count": 0,
      "outputs": []
    },
    {
      "metadata": {
        "id": "Dk0Mv8yExGrp",
        "colab_type": "code",
        "colab": {}
      },
      "cell_type": "code",
      "source": [
        "class Graph():\n",
        "  def __init__(self):\n",
        "    self.operations = []\n",
        "    self.placeholders = []\n",
        "    self.variables = []\n",
        "    \n",
        "  def set_as_default(self):\n",
        "    global _default_graph \n",
        "    _default_graph = self"
      ],
      "execution_count": 0,
      "outputs": []
    },
    {
      "metadata": {
        "id": "qAcaCp1AyKnf",
        "colab_type": "text"
      },
      "cell_type": "markdown",
      "source": [
        "### A Basic Graph\n",
        "\n",
        "$$ z = Ax + b $$\n",
        "\n",
        "With A=10 and b=1\n",
        "\n",
        "$$ z = 10x + 1 $$\n",
        "\n",
        "Just need a placeholder for x and then once x is filled in we can solve it!"
      ]
    },
    {
      "metadata": {
        "id": "dcwUFZEmyHfx",
        "colab_type": "code",
        "colab": {}
      },
      "cell_type": "code",
      "source": [
        "g = Graph()"
      ],
      "execution_count": 0,
      "outputs": []
    },
    {
      "metadata": {
        "id": "vvGBNkxlybRY",
        "colab_type": "code",
        "colab": {}
      },
      "cell_type": "code",
      "source": [
        "g.set_as_default()"
      ],
      "execution_count": 0,
      "outputs": []
    },
    {
      "metadata": {
        "id": "hpShyWHhyiOK",
        "colab_type": "code",
        "colab": {}
      },
      "cell_type": "code",
      "source": [
        "A = Variable(10)"
      ],
      "execution_count": 0,
      "outputs": []
    },
    {
      "metadata": {
        "id": "nUj3xdfOyiXY",
        "colab_type": "code",
        "colab": {}
      },
      "cell_type": "code",
      "source": [
        "b = Variable(1)"
      ],
      "execution_count": 0,
      "outputs": []
    },
    {
      "metadata": {
        "id": "c-ESD0cZyiao",
        "colab_type": "code",
        "colab": {}
      },
      "cell_type": "code",
      "source": [
        "x = Placeholder()"
      ],
      "execution_count": 0,
      "outputs": []
    },
    {
      "metadata": {
        "id": "OPsXxf2JyraC",
        "colab_type": "code",
        "colab": {}
      },
      "cell_type": "code",
      "source": [
        "y = multiply(A,x)"
      ],
      "execution_count": 0,
      "outputs": []
    },
    {
      "metadata": {
        "id": "IZik6J8MywRg",
        "colab_type": "code",
        "colab": {}
      },
      "cell_type": "code",
      "source": [
        "z = add(y,b)"
      ],
      "execution_count": 0,
      "outputs": []
    },
    {
      "metadata": {
        "id": "zvSP_FqIjwb8",
        "colab_type": "text"
      },
      "cell_type": "markdown",
      "source": [
        "## Session"
      ]
    },
    {
      "metadata": {
        "id": "ixnQ-gSbDQ7l",
        "colab_type": "code",
        "colab": {}
      },
      "cell_type": "code",
      "source": [
        "import numpy as np"
      ],
      "execution_count": 0,
      "outputs": []
    },
    {
      "metadata": {
        "id": "MoAX2Tv-jz9l",
        "colab_type": "text"
      },
      "cell_type": "markdown",
      "source": [
        "### Traversing Operation Nodes"
      ]
    },
    {
      "metadata": {
        "id": "nSnPSSShyzJC",
        "colab_type": "code",
        "colab": {}
      },
      "cell_type": "code",
      "source": [
        "def traverse_postorder(operation):\n",
        "  \"\"\"\n",
        "  PostOrder Transversal of Nodes. Basically makes sure computations ar done in\n",
        "  the correct order (Ax first, then Ax + b).\n",
        "  \"\"\"\n",
        "  nodes_postorder = []\n",
        "  def recurse(node):\n",
        "    if isinstance(node, Operation):\n",
        "      for input_node in node.input_nodes:\n",
        "        recurse(input_node)\n",
        "    nodes_postorder.append(node)\n",
        "    \n",
        "  recurse(operation)\n",
        "  return nodes_postorder"
      ],
      "execution_count": 0,
      "outputs": []
    },
    {
      "metadata": {
        "id": "LrUHWegK_pNc",
        "colab_type": "code",
        "colab": {}
      },
      "cell_type": "code",
      "source": [
        "class Session:\n",
        "    \n",
        "    def run(self, operation, feed_dict = {}):\n",
        "        \"\"\" \n",
        "          operation: The operation to compute\n",
        "          feed_dict: Dictionary mapping placeholders to input values (the data)  \n",
        "        \"\"\"\n",
        "        \n",
        "        # Puts nodes in correct order\n",
        "        nodes_postorder = traverse_postorder(operation)\n",
        "        \n",
        "        for node in nodes_postorder:\n",
        "\n",
        "            if type(node) == Placeholder:\n",
        "                \n",
        "                node.output = feed_dict[node]\n",
        "                \n",
        "            elif type(node) == Variable:\n",
        "                \n",
        "                node.output = node.value\n",
        "                \n",
        "            else: # Operation\n",
        "                \n",
        "                node.inputs = [input_node.output for input_node in node.input_nodes]\n",
        "\n",
        "                 \n",
        "                node.output = node.compute(*node.inputs)\n",
        "                \n",
        "            # Convert lists to numpy arrays\n",
        "            if type(node.output) == list:\n",
        "                node.output = np.array(node.output)\n",
        "        \n",
        "        # Return the requested node value\n",
        "        return operation.output\n"
      ],
      "execution_count": 0,
      "outputs": []
    },
    {
      "metadata": {
        "id": "GphVclbdBBQS",
        "colab_type": "code",
        "colab": {}
      },
      "cell_type": "code",
      "source": [
        "sess = Session()"
      ],
      "execution_count": 0,
      "outputs": []
    },
    {
      "metadata": {
        "id": "2Kn_BT7MBEYm",
        "colab_type": "code",
        "outputId": "58d9e726-6abf-4a4b-d754-aa3b947c4380",
        "colab": {
          "base_uri": "https://localhost:8080/",
          "height": 34
        }
      },
      "cell_type": "code",
      "source": [
        "result = sess.run(operation=z,feed_dict={x:10})\n",
        "result"
      ],
      "execution_count": 99,
      "outputs": [
        {
          "output_type": "execute_result",
          "data": {
            "text/plain": [
              "101"
            ]
          },
          "metadata": {
            "tags": []
          },
          "execution_count": 99
        }
      ]
    },
    {
      "metadata": {
        "id": "Zms714isCxFO",
        "colab_type": "code",
        "colab": {}
      },
      "cell_type": "code",
      "source": [
        "g = Graph()\n",
        "\n",
        "g.set_as_default()\n",
        "\n",
        "A = Variable([[10,20],[30,40]])\n",
        "b = Variable([1,2,])\n",
        "\n",
        "x = Placeholder()\n",
        "\n",
        "y = matmul(A,x)\n",
        "\n",
        "z = add(y,b)"
      ],
      "execution_count": 0,
      "outputs": []
    },
    {
      "metadata": {
        "id": "ck6WMdTqDFA5",
        "colab_type": "code",
        "colab": {}
      },
      "cell_type": "code",
      "source": [
        "sess = Session()"
      ],
      "execution_count": 0,
      "outputs": []
    },
    {
      "metadata": {
        "id": "dDMoqLm-DGw7",
        "colab_type": "code",
        "outputId": "96b1fcc5-8aab-482a-da2f-0187d955f72e",
        "colab": {
          "base_uri": "https://localhost:8080/",
          "height": 51
        }
      },
      "cell_type": "code",
      "source": [
        "sess.run(operation=z,feed_dict={x:10})"
      ],
      "execution_count": 102,
      "outputs": [
        {
          "output_type": "execute_result",
          "data": {
            "text/plain": [
              "array([[101, 202],\n",
              "       [301, 402]])"
            ]
          },
          "metadata": {
            "tags": []
          },
          "execution_count": 102
        }
      ]
    },
    {
      "metadata": {
        "id": "mbgBL1FaDsdh",
        "colab_type": "text"
      },
      "cell_type": "markdown",
      "source": [
        "## Activation Function"
      ]
    },
    {
      "metadata": {
        "id": "RKFmhL03Dq30",
        "colab_type": "code",
        "colab": {}
      },
      "cell_type": "code",
      "source": [
        "import matplotlib.pyplot as plt\n",
        "%matplotlib inline"
      ],
      "execution_count": 0,
      "outputs": []
    },
    {
      "metadata": {
        "id": "OLNtGbw_D5gd",
        "colab_type": "code",
        "colab": {}
      },
      "cell_type": "code",
      "source": [
        "def sigmoid(z):\n",
        "  return 1 / (1 + np.exp(-z))"
      ],
      "execution_count": 0,
      "outputs": []
    },
    {
      "metadata": {
        "id": "1YnIY4QQD_9o",
        "colab_type": "code",
        "colab": {}
      },
      "cell_type": "code",
      "source": [
        "sample_z = np.linspace(-10,10,100)\n",
        "sample_a = sigmoid(sample_z)"
      ],
      "execution_count": 0,
      "outputs": []
    },
    {
      "metadata": {
        "id": "KpMs727OEKrk",
        "colab_type": "code",
        "outputId": "954eb911-44d7-4331-fafd-63a76df83864",
        "colab": {
          "base_uri": "https://localhost:8080/",
          "height": 282
        }
      },
      "cell_type": "code",
      "source": [
        "plt.plot(sample_z,sample_a)"
      ],
      "execution_count": 106,
      "outputs": [
        {
          "output_type": "execute_result",
          "data": {
            "text/plain": [
              "[<matplotlib.lines.Line2D at 0x7fd5b14e2b38>]"
            ]
          },
          "metadata": {
            "tags": []
          },
          "execution_count": 106
        },
        {
          "output_type": "display_data",
          "data": {
            "image/png": "[encoded data removed]",
            "text/plain": [
              "<matplotlib.figure.Figure at 0x7fd5b14b4a90>"
            ]
          },
          "metadata": {
            "tags": []
          }
        }
      ]
    },
    {
      "metadata": {
        "id": "3lc6b3mYkN-Q",
        "colab_type": "text"
      },
      "cell_type": "markdown",
      "source": [
        "### Sigmoid as an Operation\n"
      ]
    },
    {
      "metadata": {
        "id": "tx6QFdwkET_N",
        "colab_type": "code",
        "colab": {}
      },
      "cell_type": "code",
      "source": [
        "class Sigmoid(Operation):\n",
        "  def __init__(self, z):\n",
        "    super().__init__([z])\n",
        "  \n",
        "  def compute(self, z_val):\n",
        "    return 1 / (1 + np.exp(-z_val))"
      ],
      "execution_count": 0,
      "outputs": []
    },
    {
      "metadata": {
        "id": "5R4ImqaTDngF",
        "colab_type": "text"
      },
      "cell_type": "markdown",
      "source": [
        "## Classification Example\n"
      ]
    },
    {
      "metadata": {
        "id": "4eY9nbDmEkJ_",
        "colab_type": "code",
        "colab": {}
      },
      "cell_type": "code",
      "source": [
        "from sklearn.datasets import make_blobs"
      ],
      "execution_count": 0,
      "outputs": []
    },
    {
      "metadata": {
        "id": "IMEl3LsoEpPs",
        "colab_type": "code",
        "outputId": "4aada66c-f704-48cd-8ff7-19db9daedd4a",
        "colab": {
          "base_uri": "https://localhost:8080/",
          "height": 918
        }
      },
      "cell_type": "code",
      "source": [
        "data = make_blobs(n_samples = 50, n_features = 2, centers=2, random_state =75)\n",
        "data"
      ],
      "execution_count": 109,
      "outputs": [
        {
          "output_type": "execute_result",
          "data": {
            "text/plain": [
              "(array([[  7.3402781 ,   9.36149154],\n",
              "        [  9.13332743,   8.74906102],\n",
              "        [  1.99243535,  -8.85885722],\n",
              "        [  7.38443759,   7.72520389],\n",
              "        [  7.97613887,   8.80878209],\n",
              "        [  7.76974352,   9.50899462],\n",
              "        [  8.3186688 ,  10.1026025 ],\n",
              "        [  8.79588546,   7.28046702],\n",
              "        [  9.81270381,   9.46968531],\n",
              "        [  1.57961049,  -8.17089971],\n",
              "        [  0.06441546,  -9.04982817],\n",
              "        [  7.2075117 ,   7.04533624],\n",
              "        [  9.10704928,   9.0272212 ],\n",
              "        [  1.82921897,  -9.86956281],\n",
              "        [  7.85036314,   7.986659  ],\n",
              "        [  3.04605603,  -7.50486114],\n",
              "        [  1.85582689,  -6.74473432],\n",
              "        [  2.88603902,  -8.85261704],\n",
              "        [ -1.20046211,  -9.55928542],\n",
              "        [  2.00890845,  -9.78471782],\n",
              "        [  7.68945113,   9.01706723],\n",
              "        [  6.42356167,   8.33356412],\n",
              "        [  8.15467319,   7.87489634],\n",
              "        [  1.92000795,  -7.50953708],\n",
              "        [  1.90073973,  -7.24386675],\n",
              "        [  7.7605855 ,   7.05124418],\n",
              "        [  6.90561582,   9.23493842],\n",
              "        [  0.65582768,  -9.5920878 ],\n",
              "        [  1.41804346,  -8.10517372],\n",
              "        [  9.65371965,   9.35409538],\n",
              "        [  1.23053506,  -7.98873571],\n",
              "        [  1.96322881,  -9.50169117],\n",
              "        [  6.11644251,   9.26709393],\n",
              "        [  7.70630321,  10.78862346],\n",
              "        [  0.79580385,  -9.00301023],\n",
              "        [  3.13114921,  -8.6849493 ],\n",
              "        [  1.3970852 ,  -7.25918415],\n",
              "        [  7.27808709,   7.15201886],\n",
              "        [  1.06965742,  -8.1648251 ],\n",
              "        [  6.37298915,   9.77705761],\n",
              "        [  7.24898455,   8.85834104],\n",
              "        [  2.09335725,  -7.66278316],\n",
              "        [  1.05865542,  -8.43841416],\n",
              "        [  6.43807502,   7.85483418],\n",
              "        [  6.94948313,   8.75248232],\n",
              "        [ -0.07326715, -11.69999644],\n",
              "        [  0.61463602,  -9.51908883],\n",
              "        [  1.31977821,  -7.2710667 ],\n",
              "        [  2.72532584,  -7.51956557],\n",
              "        [  8.20949206,  11.90419283]]),\n",
              " array([1, 1, 0, 1, 1, 1, 1, 1, 1, 0, 0, 1, 1, 0, 1, 0, 0, 0, 0, 0, 1, 1,\n",
              "        1, 0, 0, 1, 1, 0, 0, 1, 0, 0, 1, 1, 0, 0, 0, 1, 0, 1, 1, 0, 0, 1,\n",
              "        1, 0, 0, 0, 0, 1]))"
            ]
          },
          "metadata": {
            "tags": []
          },
          "execution_count": 109
        }
      ]
    },
    {
      "metadata": {
        "id": "c0sDsNFeE8Li",
        "colab_type": "code",
        "colab": {}
      },
      "cell_type": "code",
      "source": [
        "features = data[0]\n",
        "labels = data[1]"
      ],
      "execution_count": 0,
      "outputs": []
    },
    {
      "metadata": {
        "id": "9WRmQTnxFChL",
        "colab_type": "code",
        "outputId": "e109952e-52f4-491f-e050-d98dddb18b54",
        "colab": {
          "base_uri": "https://localhost:8080/",
          "height": 282
        }
      },
      "cell_type": "code",
      "source": [
        "plt.scatter(features[:,0], features[:,1], c=labels)"
      ],
      "execution_count": 111,
      "outputs": [
        {
          "output_type": "execute_result",
          "data": {
            "text/plain": [
              "<matplotlib.collections.PathCollection at 0x7fd5b1449fd0>"
            ]
          },
          "metadata": {
            "tags": []
          },
          "execution_count": 111
        },
        {
          "output_type": "display_data",
          "data": {
            "image/png": "[encoded data removed]",
            "text/plain": [
              "<matplotlib.figure.Figure at 0x7fd5b146b5f8>"
            ]
          },
          "metadata": {
            "tags": []
          }
        }
      ]
    },
    {
      "metadata": {
        "id": "NcF9JrggFbW6",
        "colab_type": "code",
        "outputId": "db35bc05-da6e-40e1-cf8c-e78e9f8c5a7b",
        "colab": {
          "base_uri": "https://localhost:8080/",
          "height": 282
        }
      },
      "cell_type": "code",
      "source": [
        "x = np.linspace(0,11,10)\n",
        "y = -x + 5\n",
        "plt.scatter(features[:,0], features[:,1], c=labels, cmap='coolwarm')\n",
        "plt.plot(x, y)"
      ],
      "execution_count": 112,
      "outputs": [
        {
          "output_type": "execute_result",
          "data": {
            "text/plain": [
              "[<matplotlib.lines.Line2D at 0x7fd5b14a8a90>]"
            ]
          },
          "metadata": {
            "tags": []
          },
          "execution_count": 112
        },
        {
          "output_type": "display_data",
          "data": {
            "image/png": "[encoded data removed]",
            "text/plain": [
              "<matplotlib.figure.Figure at 0x7fd5b14a8f60>"
            ]
          },
          "metadata": {
            "tags": []
          }
        }
      ]
    },
    {
      "metadata": {
        "id": "9hIRY8SwkcUy",
        "colab_type": "text"
      },
      "cell_type": "markdown",
      "source": [
        "## Defining the Perceptron\n",
        "\n",
        "$$ y = mx + b $$\n",
        "\n",
        "$$ y = -x + 5 $$\n",
        "\n",
        "$$ f1 = mf2 + b , m=1$$\n",
        "\n",
        "$$ f1 = -f2 + 5 $$\n",
        "\n",
        "$$ f1 + f2 - 5 = 0 $$\n"
      ]
    },
    {
      "metadata": {
        "id": "mEq3_-2BlRZQ",
        "colab_type": "text"
      },
      "cell_type": "markdown",
      "source": [
        "### Convert to a Matrix Representation of Features"
      ]
    },
    {
      "metadata": {
        "id": "Zju5BBlPlTSU",
        "colab_type": "text"
      },
      "cell_type": "markdown",
      "source": [
        "$$ w^Tx + b = 0 $$\n",
        "\n",
        "$$   \\Big(1, 1\\Big)f - 5 = 0 $$\n",
        "\n",
        "Then if the result is > 0 its label 1, if it is less than 0, it is label=0\n",
        "\n"
      ]
    },
    {
      "metadata": {
        "id": "btAm_PQglVOM",
        "colab_type": "text"
      },
      "cell_type": "markdown",
      "source": [
        "### Example Point\n",
        "\n",
        "Let's say we have the point f1=2 , f2=2 otherwise stated as (8,10). Then we have:\n",
        "\n",
        "$$ \n",
        "\\begin{pmatrix} \n",
        "1 , 1\n",
        "\\end{pmatrix} \n",
        "\\begin{pmatrix} \n",
        "8 \\\\\n",
        "10\n",
        "\\end{pmatrix} + 5 =  $$\n"
      ]
    },
    {
      "metadata": {
        "id": "DXoRQwzdGLHV",
        "colab_type": "code",
        "outputId": "9cf8d92d-4041-4c30-98f5-66a6df8e1767",
        "colab": {
          "base_uri": "https://localhost:8080/",
          "height": 34
        }
      },
      "cell_type": "code",
      "source": [
        "np.array([1,1]).dot(np.array([[8],[10]])) - 5"
      ],
      "execution_count": 113,
      "outputs": [
        {
          "output_type": "execute_result",
          "data": {
            "text/plain": [
              "array([13])"
            ]
          },
          "metadata": {
            "tags": []
          },
          "execution_count": 113
        }
      ]
    },
    {
      "metadata": {
        "id": "6d2k-oB9lbHW",
        "colab_type": "text"
      },
      "cell_type": "markdown",
      "source": [
        "### Using an Example Session Graph"
      ]
    },
    {
      "metadata": {
        "id": "uSukZPNPG1-j",
        "colab_type": "code",
        "colab": {}
      },
      "cell_type": "code",
      "source": [
        "g = Graph()"
      ],
      "execution_count": 0,
      "outputs": []
    },
    {
      "metadata": {
        "id": "_xomffl1G2Xf",
        "colab_type": "code",
        "colab": {}
      },
      "cell_type": "code",
      "source": [
        "g.set_as_default()"
      ],
      "execution_count": 0,
      "outputs": []
    },
    {
      "metadata": {
        "id": "RPhd7CW1G2UB",
        "colab_type": "code",
        "colab": {}
      },
      "cell_type": "code",
      "source": [
        "x = Placeholder()\n",
        "\n",
        "w = Variable([1,1])\n",
        "\n",
        "b = Variable(-5)\n",
        "\n",
        "z = add(matmul(w,x),b)"
      ],
      "execution_count": 0,
      "outputs": []
    },
    {
      "metadata": {
        "id": "c02dZ8vyG17D",
        "colab_type": "code",
        "colab": {}
      },
      "cell_type": "code",
      "source": [
        "a = Sigmoid(z)"
      ],
      "execution_count": 0,
      "outputs": []
    },
    {
      "metadata": {
        "id": "hFNdkAriG13R",
        "colab_type": "code",
        "colab": {}
      },
      "cell_type": "code",
      "source": [
        "sess = Session()"
      ],
      "execution_count": 0,
      "outputs": []
    },
    {
      "metadata": {
        "id": "eXMeWF0AG1z9",
        "colab_type": "code",
        "outputId": "819f370b-22ab-4fb2-b9b9-4248f1cf7737",
        "colab": {
          "base_uri": "https://localhost:8080/",
          "height": 34
        }
      },
      "cell_type": "code",
      "source": [
        "sess.run(operation=a,feed_dict={x:[8,10]})"
      ],
      "execution_count": 119,
      "outputs": [
        {
          "output_type": "execute_result",
          "data": {
            "text/plain": [
              "0.999997739675702"
            ]
          },
          "metadata": {
            "tags": []
          },
          "execution_count": 119
        }
      ]
    }
  ]
}